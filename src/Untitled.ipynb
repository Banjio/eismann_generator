{
 "cells": [
  {
   "cell_type": "code",
   "execution_count": 6,
   "id": "fa50179e",
   "metadata": {},
   "outputs": [],
   "source": [
    "import pandas as pd\n",
    "import sys\n",
    "import os\n",
    "import pathlib\n",
    "sys.path.append(\"../\")\n",
    "from src import config as cfg"
   ]
  },
  {
   "cell_type": "code",
   "execution_count": 8,
   "id": "53a1e562",
   "metadata": {},
   "outputs": [],
   "source": [
    "paths = os.listdir(cfg.data_p)"
   ]
  },
  {
   "cell_type": "code",
   "execution_count": 13,
   "id": "d83db1b7",
   "metadata": {},
   "outputs": [
    {
     "name": "stderr",
     "output_type": "stream",
     "text": [
      "/home/maxbeier/Schreibtisch/Masterarbeit_Orga/PythonCode/venv/lib/python3.8/site-packages/IPython/core/interactiveshell.py:3165: DtypeWarning: Columns (4,14,15,16) have mixed types.Specify dtype option on import or set low_memory=False.\n",
      "  has_raised = await self.run_ast_nodes(code_ast.body, cell_name,\n"
     ]
    }
   ],
   "source": [
    "df = pd.read_csv(pathlib.Path(cfg.data_p, paths[0]), sep=\";\", encoding=\"iso-8859-1\")"
   ]
  },
  {
   "cell_type": "markdown",
   "id": "78c83bbb",
   "metadata": {},
   "source": [
    "### Removable rows\n",
    "* nicht regelbar (Regelbarkeit)\n",
    "* Netzabgang < 2020 "
   ]
  },
  {
   "cell_type": "code",
   "execution_count": null,
   "id": "59f95242",
   "metadata": {},
   "outputs": [],
   "source": [
    "DROP_COLS = [\"Strasse_Flurstueck\", \"PLZ\", \"Ort_Gemarkung\", \"Gemeindeschlüssel\", \n",
    "            \"Bundesland\"\n",
    "            ]"
   ]
  },
  {
   "cell_type": "code",
   "execution_count": 18,
   "id": "7d3fe2b7",
   "metadata": {},
   "outputs": [
    {
     "data": {
      "text/html": [
       "<div>\n",
       "<style scoped>\n",
       "    .dataframe tbody tr th:only-of-type {\n",
       "        vertical-align: middle;\n",
       "    }\n",
       "\n",
       "    .dataframe tbody tr th {\n",
       "        vertical-align: top;\n",
       "    }\n",
       "\n",
       "    .dataframe thead th {\n",
       "        text-align: right;\n",
       "    }\n",
       "</style>\n",
       "<table border=\"1\" class=\"dataframe\">\n",
       "  <thead>\n",
       "    <tr style=\"text-align: right;\">\n",
       "      <th></th>\n",
       "      <th>EEG_Anlagenschluessel</th>\n",
       "      <th>NB_BNR</th>\n",
       "      <th>Netzbetreiber</th>\n",
       "      <th>Strasse_Flurstueck</th>\n",
       "      <th>PLZ</th>\n",
       "      <th>Ort_Gemarkung</th>\n",
       "      <th>Gemeindeschlüssel</th>\n",
       "      <th>Bundesland</th>\n",
       "      <th>Installierte_Leistung</th>\n",
       "      <th>Energietraeger</th>\n",
       "      <th>Einspeisespannungsebene</th>\n",
       "      <th>Leistungsmessung</th>\n",
       "      <th>Regelbarkeit</th>\n",
       "      <th>Inbetriebnahme</th>\n",
       "      <th>Ausserbetriebnahme</th>\n",
       "      <th>Netzzugang</th>\n",
       "      <th>Netzabgang</th>\n",
       "    </tr>\n",
       "  </thead>\n",
       "  <tbody>\n",
       "    <tr>\n",
       "      <th>1</th>\n",
       "      <td>E20052019800200125035000000100001</td>\n",
       "      <td>10000052</td>\n",
       "      <td>Elektrizitätswerk Rohmund GmbH</td>\n",
       "      <td>NaN</td>\n",
       "      <td>37276</td>\n",
       "      <td>NaN</td>\n",
       "      <td>6636007.0</td>\n",
       "      <td>Hessen</td>\n",
       "      <td>9,000</td>\n",
       "      <td>Solar</td>\n",
       "      <td>NS</td>\n",
       "      <td>Nein</td>\n",
       "      <td>70 % Begrenzung</td>\n",
       "      <td>07.12.2018</td>\n",
       "      <td>NaN</td>\n",
       "      <td>07.12.2018</td>\n",
       "      <td>NaN</td>\n",
       "    </tr>\n",
       "  </tbody>\n",
       "</table>\n",
       "</div>"
      ],
      "text/plain": [
       "               EEG_Anlagenschluessel    NB_BNR  \\\n",
       "1  E20052019800200125035000000100001  10000052   \n",
       "\n",
       "                    Netzbetreiber Strasse_Flurstueck    PLZ Ort_Gemarkung  \\\n",
       "1  Elektrizitätswerk Rohmund GmbH                NaN  37276           NaN   \n",
       "\n",
       "   Gemeindeschlüssel Bundesland Installierte_Leistung Energietraeger  \\\n",
       "1          6636007.0     Hessen                 9,000          Solar   \n",
       "\n",
       "  Einspeisespannungsebene Leistungsmessung     Regelbarkeit Inbetriebnahme  \\\n",
       "1                      NS             Nein  70 % Begrenzung     07.12.2018   \n",
       "\n",
       "  Ausserbetriebnahme  Netzzugang Netzabgang  \n",
       "1                NaN  07.12.2018        NaN  "
      ]
     },
     "execution_count": 18,
     "metadata": {},
     "output_type": "execute_result"
    }
   ],
   "source": [
    "a.head(1)"
   ]
  },
  {
   "cell_type": "code",
   "execution_count": 17,
   "id": "18186911",
   "metadata": {
    "scrolled": true
   },
   "outputs": [
    {
     "data": {
      "text/plain": [
       "EEG_Anlagenschluessel       object\n",
       "NB_BNR                       int64\n",
       "Netzbetreiber               object\n",
       "Strasse_Flurstueck          object\n",
       "PLZ                         object\n",
       "Ort_Gemarkung               object\n",
       "Gemeindeschlüssel          float64\n",
       "Bundesland                  object\n",
       "Installierte_Leistung       object\n",
       "Energietraeger              object\n",
       "Einspeisespannungsebene     object\n",
       "Leistungsmessung            object\n",
       "Regelbarkeit                object\n",
       "Inbetriebnahme              object\n",
       "Ausserbetriebnahme          object\n",
       "Netzzugang                  object\n",
       "Netzabgang                  object\n",
       "dtype: object"
      ]
     },
     "execution_count": 17,
     "metadata": {},
     "output_type": "execute_result"
    }
   ],
   "source": [
    "a = df[df[\"Regelbarkeit\"] != \"nicht regelbar\"]\n",
    "a.dtypes"
   ]
  },
  {
   "cell_type": "code",
   "execution_count": null,
   "id": "4e38fca0",
   "metadata": {},
   "outputs": [],
   "source": []
  }
 ],
 "metadata": {
  "kernelspec": {
   "display_name": "Python 3.8.5  ('venv': venv)",
   "language": "python",
   "name": "pythonjvsc74a57bd0df2d7de8861be49ccc0d6c004262f0b5d544cc6d878d58dc4cdc65591be3564a"
  },
  "language_info": {
   "codemirror_mode": {
    "name": "ipython",
    "version": 3
   },
   "file_extension": ".py",
   "mimetype": "text/x-python",
   "name": "python",
   "nbconvert_exporter": "python",
   "pygments_lexer": "ipython3",
   "version": "3.8.5"
  }
 },
 "nbformat": 4,
 "nbformat_minor": 5
}
